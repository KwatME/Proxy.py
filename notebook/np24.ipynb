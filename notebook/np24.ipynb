{
 "cells": [
  {
   "cell_type": "code",
   "execution_count": null,
   "metadata": {},
   "outputs": [],
   "source": [
    "%load_ext autoreload\n",
    "%autoreload 2"
   ]
  },
  {
   "cell_type": "code",
   "execution_count": null,
   "metadata": {},
   "outputs": [],
   "source": [
    "import os\n",
    "\n",
    "import numpy as np\n",
    "import pandas as pd\n",
    "\n",
    "import kraft"
   ]
  },
  {
   "cell_type": "code",
   "execution_count": null,
   "metadata": {},
   "outputs": [],
   "source": [
    "output_directory_path = \"../output/\""
   ]
  },
  {
   "cell_type": "code",
   "execution_count": null,
   "metadata": {},
   "outputs": [],
   "source": [
    "feature_name = \"np24\"\n",
    "\n",
    "feature_x_cell_line = pd.read_csv(\n",
    "    \"/media/kwat/CarrotCake/garden/data/cancer_cell_line/{}/compound_x_cell_line.tsv\".format(\n",
    "        feature_name\n",
    "    ),\n",
    "    sep=\"\\t\",\n",
    "    index_col=0,\n",
    ")\n",
    "\n",
    "# feature_x_cell_line"
   ]
  },
  {
   "cell_type": "code",
   "execution_count": null,
   "metadata": {},
   "outputs": [],
   "source": [
    "sea_method = \"classic\"\n",
    "\n",
    "gene_set_x_cell_line = pd.read_csv(\n",
    "    \"/media/kwat/CarrotCake/garden/data/cancer_cell_line/gene_set/gene_set_x_sample_x_{}.tsv\".format(\n",
    "        sea_method\n",
    "    ),\n",
    "    sep=\"\\t\",\n",
    "    index_col=0,\n",
    ")\n",
    "\n",
    "# gene_set_x_cell_line"
   ]
  },
  {
   "cell_type": "code",
   "execution_count": null,
   "metadata": {},
   "outputs": [],
   "source": [
    "feature_x_cell_line.columns & gene_set_x_cell_line.columns"
   ]
  },
  {
   "cell_type": "code",
   "execution_count": null,
   "metadata": {},
   "outputs": [],
   "source": [
    "feature_x_cell_line.shape"
   ]
  },
  {
   "cell_type": "code",
   "execution_count": null,
   "metadata": {},
   "outputs": [],
   "source": [
    "scores_directory_path = \"{}/{}/{}_scores/\".format(\n",
    "    output_directory_path, feature_name, sea_method\n",
    ")\n",
    "\n",
    "kraft.path.path(scores_directory_path)\n",
    "\n",
    "for feature, se in feature_x_cell_line.iterrows():\n",
    "\n",
    "    directory_path = \"{}/{}/\".format(scores_directory_path, feature)\n",
    "\n",
    "    if not os.path.isdir(directory_path):\n",
    "\n",
    "        kraft.path.path(directory_path)\n",
    "\n",
    "        kraft.function_heat_map.make(\n",
    "            se,\n",
    "            gene_set_x_cell_line,\n",
    "            kraft.information.get_ic,\n",
    "            n_job=8,\n",
    "            n_sampling=0,\n",
    "            n_permutation=0,\n",
    "            plot=False,\n",
    "            directory_path=directory_path,\n",
    "        )"
   ]
  },
  {
   "cell_type": "code",
   "execution_count": null,
   "metadata": {},
   "outputs": [],
   "source": [
    "feature_x_cell_line = feature_x_cell_line.loc[\n",
    "    100 <= (~feature_x_cell_line.isna()).sum(axis=1), :\n",
    "]\n",
    "\n",
    "# feature_x_cell_line"
   ]
  },
  {
   "cell_type": "code",
   "execution_count": null,
   "metadata": {},
   "outputs": [],
   "source": [
    "feature_to_scores = {}\n",
    "\n",
    "feature_to_gene_sets = {}\n",
    "\n",
    "feature_to_statistic = {}\n",
    "\n",
    "for feature in feature_x_cell_line.index.to_numpy():\n",
    "\n",
    "    scores = pd.read_table(\n",
    "        \"{}/{}/{}_scores/{}/scores.tsv\".format(\n",
    "            output_directory_path, feature_name, sea_method, feature\n",
    "        ),\n",
    "        sep=\"\\t\",\n",
    "        index_col=0,\n",
    "    )\n",
    "\n",
    "    feature_to_scores[feature] = scores\n",
    "\n",
    "    scores = scores.loc[(1 / 3) < scores.loc[:, \"Score\"], :]\n",
    "\n",
    "    if 0 < scores.shape[0]:\n",
    "\n",
    "        scores = scores.sort_values(\"Score\").iloc[-10:, :]\n",
    "\n",
    "        feature_to_gene_sets[feature] = scores.index.to_numpy()\n",
    "\n",
    "        feature_to_statistic[feature] = np.median(scores.loc[:, \"Score\"].to_numpy())\n",
    "\n",
    "feature_statistics = pd.Series(feature_to_statistic, name=\"Statistic\").sort_values()\n",
    "\n",
    "feature_statistics.index.name = \"Feature\""
   ]
  },
  {
   "cell_type": "code",
   "execution_count": null,
   "metadata": {},
   "outputs": [],
   "source": [
    "# TODO: plot n_gene_set together\n",
    "kraft.plot.plot_x_y(\n",
    "    feature_statistics.index.to_numpy(),\n",
    "    feature_statistics.to_numpy(),\n",
    "    feature_statistics.index.name,\n",
    "    feature_statistics.name,\n",
    ")"
   ]
  },
  {
   "cell_type": "code",
   "execution_count": null,
   "metadata": {},
   "outputs": [],
   "source": [
    "for feature in feature_statistics.index.to_numpy()[-3:]:\n",
    "\n",
    "    kraft.function_heat_map.summarize(\n",
    "        feature_x_cell_line.loc[feature, :],\n",
    "        {\n",
    "            \"Gene Set\": {\n",
    "                \"df\": gene_set_x_cell_line.loc[feature_to_gene_sets[feature], :],\n",
    "                \"data_type\": \"continuous\",\n",
    "                \"emphasis\": \"+\",\n",
    "            }\n",
    "        },\n",
    "        {\"Gene Set\": feature_to_scores[feature]},\n",
    "        se_data_type=\"continuous\",\n",
    "    )"
   ]
  }
 ],
 "metadata": {
  "kernelspec": {
   "display_name": "Python 3",
   "language": "python",
   "name": "python3"
  },
  "language_info": {
   "codemirror_mode": {
    "name": "ipython",
    "version": 3
   },
   "file_extension": ".py",
   "mimetype": "text/x-python",
   "name": "python",
   "nbconvert_exporter": "python",
   "pygments_lexer": "ipython3",
   "version": "3.7.6"
  }
 },
 "nbformat": 4,
 "nbformat_minor": 4
}
