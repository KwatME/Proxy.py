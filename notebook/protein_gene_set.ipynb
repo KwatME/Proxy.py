{
 "cells": [
  {
   "cell_type": "code",
   "execution_count": 1,
   "metadata": {},
   "outputs": [],
   "source": [
    "%load_ext autoreload\n",
    "%autoreload 2"
   ]
  },
  {
   "cell_type": "code",
   "execution_count": 2,
   "metadata": {},
   "outputs": [],
   "source": [
    "import os\n",
    "\n",
    "import numpy as np\n",
    "import pandas as pd\n",
    "\n",
    "import kraft"
   ]
  },
  {
   "cell_type": "code",
   "execution_count": 3,
   "metadata": {},
   "outputs": [],
   "source": [
    "gene_x_cell_line = pd.read_csv(\n",
    "    \"/media/kwat/CarrotCake/garden/data/cancer_cell_line/protein/gene_x_cell_line.tsv\", sep=\"\\t\", index_col=0\n",
    ")"
   ]
  },
  {
   "cell_type": "code",
   "execution_count": 4,
   "metadata": {},
   "outputs": [
    {
     "name": "stdout",
     "output_type": "stream",
     "text": [
      "classic\n"
     ]
    }
   ],
   "source": [
    "for sea_method in (\"classic\",):\n",
    "\n",
    "    print(sea_method)\n",
    "\n",
    "    gene_set_x_cell_line = pd.read_csv(\n",
    "        \"/media/kwat/CarrotCake/garden/data/cancer_cell_line/gene_set/gene_set_x_sample_x_{}.tsv\".format(sea_method),\n",
    "        sep=\"\\t\",\n",
    "        index_col=0,\n",
    "    )\n",
    "\n",
    "    gene_sets = gene_set_x_cell_line.index.to_numpy()\n",
    "\n",
    "    gene_to_gene_sets = {}\n",
    "\n",
    "    gene_to_n_gene_set = {}\n",
    "\n",
    "    for gene in gene_x_cell_line.index:\n",
    "\n",
    "        _gene_ = \"_{}_\".format(gene)\n",
    "\n",
    "        gene_sets_matched = tuple(\n",
    "            gene_set for gene_set in gene_sets if _gene_ in gene_set\n",
    "        )\n",
    "\n",
    "        if 0 < len(gene_sets_matched):\n",
    "\n",
    "            gene_to_gene_sets[gene] = gene_sets_matched\n",
    "\n",
    "            gene_to_n_gene_set[gene] = len(gene_sets_matched)\n",
    "\n",
    "    gene_to_n_gene_set = pd.Series(gene_to_n_gene_set)\n",
    "\n",
    "    gene_to_n_gene_set = gene_to_n_gene_set.sort_values(ascending=False)\n",
    "\n",
    "    print(gene_to_n_gene_set)\n",
    "\n",
    "    gene_x_cell_line = gene_x_cell_line.loc[gene_to_n_gene_set.index, :]\n",
    "\n",
    "    print(gene_x_cell_line.shape)\n",
    "\n",
    "    scores_directory_path = \"{}.scores/\".format(sea_method)\n",
    "\n",
    "    kraft.path(scores_directory_path)\n",
    "\n",
    "    for gene, cell_line_values in gene_x_cell_line.iterrows():\n",
    "\n",
    "        directory_path = \"{}/{}/\".format(scores_directory_path, gene)\n",
    "\n",
    "        if not os.path.isdir(directory_path):\n",
    "\n",
    "            kraft.path(directory_path)\n",
    "\n",
    "            kraft.function_heat_map(\n",
    "                cell_line_values,\n",
    "                gene_set_x_cell_line,\n",
    "                kraft.get_ic,\n",
    "                n_job=8,\n",
    "                n_sampling=0,\n",
    "                n_permutation=0,\n",
    "                plot=False,\n",
    "                directory_path=directory_path,\n",
    "            )"
   ]
  },
  {
   "cell_type": "code",
   "execution_count": null,
   "metadata": {},
   "outputs": [],
   "source": [
    "gene_x_cell_line = gene_x_cell_line.loc[\n",
    "    50 < (~gene_x_cell_line.isna()).sum(axis=1), :\n",
    "]\n",
    "\n",
    "gene_x_cell_line"
   ]
  },
  {
   "cell_type": "code",
   "execution_count": null,
   "metadata": {},
   "outputs": [],
   "source": [
    "gene_x_sea_method = pd.DataFrame(\n",
    "    index=gene_x_cell_line.index, columns=(\"classic\",)\n",
    ")\n",
    "\n",
    "for sea_method in gene_x_sea_method.columns:\n",
    "\n",
    "    for gene in gene_x_sea_method.index:\n",
    "\n",
    "        scores = (\n",
    "            pd.read_table(\n",
    "                \"{}.scores/{}/scores.tsv\".format(sea_method, gene),\n",
    "                sep=\"\\t\",\n",
    "                index_col=0,\n",
    "            )\n",
    "            .loc[:, \"Score\"]\n",
    "        )\n",
    "        \n",
    "        scores = scores.loc[(1/3) < scores][:1000]\n",
    "\n",
    "        gene_x_sea_method.loc[gene, sea_method] = scores.loc[\n",
    "            scores.index & gene_to_gene_sets[gene]\n",
    "        ].median()\n",
    "\n",
    "gene_x_sea_method"
   ]
  },
  {
   "cell_type": "code",
   "execution_count": null,
   "metadata": {},
   "outputs": [],
   "source": [
    "n_extreme = 5\n",
    "\n",
    "for sea_method, gene_scores in gene_x_sea_method.items():\n",
    "\n",
    "    for gene in gene_scores.dropna().sort_values().iloc[-3:].index:\n",
    "\n",
    "        kraft.function_heat_map(\n",
    "            gene_x_cell_line.loc[gene, :],\n",
    "            gene_set_x_cell_line.loc[gene_to_gene_sets[gene], :],\n",
    "            kraft.get_ic,\n",
    "            n_sampling=0,\n",
    "            n_permutation=0,\n",
    "            layout={\"title\": {\"text\": sea_method}},\n",
    "        )"
   ]
  },
  {
   "cell_type": "code",
   "execution_count": null,
   "metadata": {},
   "outputs": [],
   "source": [
    "kraft.plot_plotly(\n",
    "    {\n",
    "        \"layout\": {\"yaxis\": {\"title\": {\"text\": \"|IC| Median\"}}},\n",
    "        \"data\": [\n",
    "            {\n",
    "                \"type\": \"box\",\n",
    "                \"showlegend\": False,\n",
    "                \"x\": (sea_method.title(),) * gene_scores.size,\n",
    "                \"y\": gene_scores,\n",
    "                \"text\": gene_scores.index,\n",
    "                \"boxpoints\": \"all\",\n",
    "                \"jitter\": 1,\n",
    "            }\n",
    "            for sea_method, gene_scores in gene_x_sea_method.items()\n",
    "        ],\n",
    "    }\n",
    ")"
   ]
  },
  {
   "cell_type": "code",
   "execution_count": null,
   "metadata": {},
   "outputs": [],
   "source": [
    "gene_changes = gene_x_sea_method.loc[:, \"2020\"] - gene_x_sea_method.loc[:, \"classic\"]\n",
    "\n",
    "kraft.plot_histogram((gene_changes,), layout={\"xaxis\": {\"title\": {\"text\": \"Change\"}}})"
   ]
  }
 ],
 "metadata": {
  "kernelspec": {
   "display_name": "Python 3",
   "language": "python",
   "name": "python3"
  },
  "language_info": {
   "codemirror_mode": {
    "name": "ipython",
    "version": 3
   },
   "file_extension": ".py",
   "mimetype": "text/x-python",
   "name": "python",
   "nbconvert_exporter": "python",
   "pygments_lexer": "ipython3",
   "version": "3.7.6"
  }
 },
 "nbformat": 4,
 "nbformat_minor": 4
}
